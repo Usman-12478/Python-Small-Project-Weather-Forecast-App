{
  "metadata": {
    "kernelspec": {
      "language": "python",
      "display_name": "Python 3",
      "name": "python3"
    },
    "language_info": {
      "name": "python",
      "version": "3.10.14",
      "mimetype": "text/x-python",
      "codemirror_mode": {
        "name": "ipython",
        "version": 3
      },
      "pygments_lexer": "ipython3",
      "nbconvert_exporter": "python",
      "file_extension": ".py"
    },
    "kaggle": {
      "accelerator": "none",
      "dataSources": [],
      "dockerImageVersionId": 30786,
      "isInternetEnabled": true,
      "language": "python",
      "sourceType": "notebook",
      "isGpuEnabled": false
    },
    "colab": {
      "name": "Python Small Project | Weather Forecast App",
      "provenance": [],
      "include_colab_link": true
    }
  },
  "nbformat_minor": 0,
  "nbformat": 4,
  "cells": [
    {
      "cell_type": "markdown",
      "metadata": {
        "id": "view-in-github",
        "colab_type": "text"
      },
      "source": [
        "<a href=\"https://colab.research.google.com/github/Usman-12478/Python-Small-Project-Weather-Forecast-App/blob/main/Python%20Small%20Project%20%20%7C%20%20Weather%20Forecast%20App.ipynb\" target=\"_parent\"><img src=\"https://colab.research.google.com/assets/colab-badge.svg\" alt=\"Open In Colab\"/></a>"
      ]
    },
    {
      "cell_type": "code",
      "source": [
        "import requests"
      ],
      "metadata": {
        "execution": {
          "iopub.status.busy": "2024-10-04T10:44:14.717706Z",
          "iopub.execute_input": "2024-10-04T10:44:14.718153Z",
          "iopub.status.idle": "2024-10-04T10:44:14.724285Z",
          "shell.execute_reply.started": "2024-10-04T10:44:14.718113Z",
          "shell.execute_reply": "2024-10-04T10:44:14.722512Z"
        },
        "trusted": true,
        "id": "LloPOfxXIvxE"
      },
      "execution_count": 1,
      "outputs": []
    },
    {
      "cell_type": "markdown",
      "source": [
        "# Checking Weather By Using OpenWeatherMap's API"
      ],
      "metadata": {
        "id": "juEiTSDEIvxK"
      }
    },
    {
      "cell_type": "code",
      "source": [
        "def get_weather(city):\n",
        "    api_key = 'ibwugzxzxcvfnfq3p8cgcbfmxba788ieeb24oayb'\n",
        "    base_url = f'http://api.openweathermap.org/data/2.5/weather?q={city}&appid={api_key}&units=metric'\n",
        "    response = requests.get(base_url)\n",
        "    if response.status_code == 200:\n",
        "        return response.json()\n",
        "    else:\n",
        "        return None\n",
        "\n",
        "city = input('Enter The City: ')\n",
        "\n",
        "weather_data = get_weather(city)\n",
        "\n",
        "if weather_data:\n",
        "    print(\"Current Weather in\", city,\":\")\n",
        "    print(\"Temperature:\", weather_data['main']['temp'], \"°C\")\n",
        "    print(\"Description:\", weather_data['weather'][0]['description'])\n",
        "else:\n",
        "    print('Invalid City Name!')"
      ],
      "metadata": {
        "execution": {
          "iopub.status.busy": "2024-10-04T10:44:21.516135Z",
          "iopub.execute_input": "2024-10-04T10:44:21.516535Z",
          "iopub.status.idle": "2024-10-04T10:44:25.595683Z",
          "shell.execute_reply.started": "2024-10-04T10:44:21.516497Z",
          "shell.execute_reply": "2024-10-04T10:44:25.594398Z"
        },
        "trusted": true,
        "id": "RpamWsYvIvxN",
        "outputId": "47314e29-678e-44f2-e25c-fcb516ba972e",
        "colab": {
          "base_uri": "https://localhost:8080/"
        }
      },
      "execution_count": 3,
      "outputs": [
        {
          "output_type": "stream",
          "name": "stdout",
          "text": [
            "Enter The City: Houston\n",
            "Invalid City Name!\n"
          ]
        }
      ]
    },
    {
      "cell_type": "code",
      "source": [
        "def get_weather(city):\n",
        "    api = 'ibwugzxzxcvfnfq3p8cgcbfmxba788ieeb24oayb'\n",
        "    base_url = f'http://api.openweathermap.org/data/2.5/weather?q={city}&appid={api}&units=metric'\n",
        "    response = requests.get(base_url)\n",
        "    if response.status_code == 200:\n",
        "        return response.json()\n",
        "    else:\n",
        "        print('Invalid Response')\n",
        "\n",
        "city = input('Enter The City: ')\n",
        "\n",
        "weather_data = get_weather(city)\n",
        "\n",
        "if weather_data:\n",
        "\n",
        "    print(f'Current Weather In {city}:')\n",
        "    print('Temperature:', weather_data['main']['temp'], '°C')\n",
        "    print('Description:', weather_data['weather'][0]['description'])"
      ],
      "metadata": {
        "execution": {
          "iopub.status.busy": "2024-10-04T10:44:51.028552Z",
          "iopub.execute_input": "2024-10-04T10:44:51.028969Z",
          "iopub.status.idle": "2024-10-04T10:44:56.652304Z",
          "shell.execute_reply.started": "2024-10-04T10:44:51.028902Z",
          "shell.execute_reply": "2024-10-04T10:44:56.651117Z"
        },
        "trusted": true,
        "id": "FNVC5-dRIvxS",
        "outputId": "4d0ea00c-3588-4043-b009-e54b37c0ea05",
        "colab": {
          "base_uri": "https://localhost:8080/"
        }
      },
      "execution_count": 4,
      "outputs": [
        {
          "output_type": "stream",
          "name": "stdout",
          "text": [
            "Enter The City: Islamabad\n",
            "Invalid Response\n"
          ]
        }
      ]
    },
    {
      "cell_type": "code",
      "source": [],
      "metadata": {
        "id": "FZ20U4GwIvxT"
      },
      "execution_count": null,
      "outputs": []
    }
  ]
}